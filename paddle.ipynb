{
 "cells": [
  {
   "cell_type": "code",
   "execution_count": 3,
   "metadata": {},
   "outputs": [
    {
     "name": "stdout",
     "output_type": "stream",
     "text": [
      "Collecting paddleocr>=2.0.1\n",
      "  Downloading paddleocr-2.8.1-py3-none-any.whl.metadata (19 kB)\n",
      "Requirement already satisfied: shapely in c:\\users\\aashi\\anaconda3\\lib\\site-packages (from paddleocr>=2.0.1) (2.0.2)\n",
      "Requirement already satisfied: scikit-image in c:\\users\\aashi\\anaconda3\\lib\\site-packages (from paddleocr>=2.0.1) (0.20.0)\n",
      "Requirement already satisfied: imgaug in c:\\users\\aashi\\anaconda3\\lib\\site-packages (from paddleocr>=2.0.1) (0.4.0)\n",
      "Collecting pyclipper (from paddleocr>=2.0.1)\n",
      "  Downloading pyclipper-1.3.0.post5-cp311-cp311-win_amd64.whl.metadata (9.2 kB)\n",
      "Requirement already satisfied: lmdb in c:\\users\\aashi\\anaconda3\\lib\\site-packages (from paddleocr>=2.0.1) (1.4.1)\n",
      "Requirement already satisfied: tqdm in c:\\users\\aashi\\anaconda3\\lib\\site-packages (from paddleocr>=2.0.1) (4.65.0)\n",
      "Requirement already satisfied: numpy<2.0 in c:\\users\\aashi\\anaconda3\\lib\\site-packages (from paddleocr>=2.0.1) (1.26.4)\n",
      "Collecting rapidfuzz (from paddleocr>=2.0.1)\n",
      "  Downloading rapidfuzz-3.9.7-cp311-cp311-win_amd64.whl.metadata (12 kB)\n",
      "Requirement already satisfied: opencv-python in c:\\users\\aashi\\anaconda3\\lib\\site-packages (from paddleocr>=2.0.1) (4.10.0.84)\n",
      "Requirement already satisfied: opencv-contrib-python in c:\\users\\aashi\\anaconda3\\lib\\site-packages (from paddleocr>=2.0.1) (4.9.0.80)\n",
      "Collecting cython (from paddleocr>=2.0.1)\n",
      "  Downloading Cython-3.0.11-cp311-cp311-win_amd64.whl.metadata (3.2 kB)\n",
      "Requirement already satisfied: Pillow in c:\\users\\aashi\\anaconda3\\lib\\site-packages (from paddleocr>=2.0.1) (10.2.0)\n",
      "Requirement already satisfied: pyyaml in c:\\users\\aashi\\anaconda3\\lib\\site-packages (from paddleocr>=2.0.1) (6.0)\n",
      "Collecting python-docx (from paddleocr>=2.0.1)\n",
      "  Downloading python_docx-1.1.2-py3-none-any.whl.metadata (2.0 kB)\n",
      "Requirement already satisfied: beautifulsoup4 in c:\\users\\aashi\\anaconda3\\lib\\site-packages (from paddleocr>=2.0.1) (4.12.2)\n",
      "Requirement already satisfied: fonttools>=4.24.0 in c:\\users\\aashi\\anaconda3\\lib\\site-packages (from paddleocr>=2.0.1) (4.47.2)\n",
      "Collecting fire>=0.3.0 (from paddleocr>=2.0.1)\n",
      "  Downloading fire-0.6.0.tar.gz (88 kB)\n",
      "  Preparing metadata (setup.py): started\n",
      "  Preparing metadata (setup.py): finished with status 'done'\n",
      "Requirement already satisfied: requests in c:\\users\\aashi\\anaconda3\\lib\\site-packages (from paddleocr>=2.0.1) (2.31.0)\n",
      "Requirement already satisfied: six in c:\\users\\aashi\\anaconda3\\lib\\site-packages (from fire>=0.3.0->paddleocr>=2.0.1) (1.16.0)\n",
      "Requirement already satisfied: termcolor in c:\\users\\aashi\\anaconda3\\lib\\site-packages (from fire>=0.3.0->paddleocr>=2.0.1) (2.4.0)\n",
      "Requirement already satisfied: soupsieve>1.2 in c:\\users\\aashi\\anaconda3\\lib\\site-packages (from beautifulsoup4->paddleocr>=2.0.1) (2.4)\n",
      "Requirement already satisfied: scipy in c:\\users\\aashi\\anaconda3\\lib\\site-packages (from imgaug->paddleocr>=2.0.1) (1.10.1)\n",
      "Requirement already satisfied: matplotlib in c:\\users\\aashi\\anaconda3\\lib\\site-packages (from imgaug->paddleocr>=2.0.1) (3.8.2)\n",
      "Requirement already satisfied: imageio in c:\\users\\aashi\\anaconda3\\lib\\site-packages (from imgaug->paddleocr>=2.0.1) (2.26.0)\n",
      "Requirement already satisfied: networkx>=2.8 in c:\\users\\aashi\\anaconda3\\lib\\site-packages (from scikit-image->paddleocr>=2.0.1) (3.1)\n",
      "Requirement already satisfied: tifffile>=2019.7.26 in c:\\users\\aashi\\anaconda3\\lib\\site-packages (from scikit-image->paddleocr>=2.0.1) (2021.7.2)\n",
      "Requirement already satisfied: PyWavelets>=1.1.1 in c:\\users\\aashi\\anaconda3\\lib\\site-packages (from scikit-image->paddleocr>=2.0.1) (1.4.1)\n",
      "Requirement already satisfied: packaging>=20.0 in c:\\users\\aashi\\anaconda3\\lib\\site-packages (from scikit-image->paddleocr>=2.0.1) (23.2)\n",
      "Requirement already satisfied: lazy_loader>=0.1 in c:\\users\\aashi\\anaconda3\\lib\\site-packages (from scikit-image->paddleocr>=2.0.1) (0.2)\n",
      "Requirement already satisfied: lxml>=3.1.0 in c:\\users\\aashi\\anaconda3\\lib\\site-packages (from python-docx->paddleocr>=2.0.1) (4.9.2)\n",
      "Requirement already satisfied: typing-extensions>=4.9.0 in c:\\users\\aashi\\anaconda3\\lib\\site-packages (from python-docx->paddleocr>=2.0.1) (4.12.2)\n",
      "Requirement already satisfied: charset-normalizer<4,>=2 in c:\\users\\aashi\\anaconda3\\lib\\site-packages (from requests->paddleocr>=2.0.1) (2.0.4)\n",
      "Requirement already satisfied: idna<4,>=2.5 in c:\\users\\aashi\\anaconda3\\lib\\site-packages (from requests->paddleocr>=2.0.1) (3.7)\n",
      "Requirement already satisfied: urllib3<3,>=1.21.1 in c:\\users\\aashi\\anaconda3\\lib\\site-packages (from requests->paddleocr>=2.0.1) (1.26.16)\n",
      "Requirement already satisfied: certifi>=2017.4.17 in c:\\users\\aashi\\anaconda3\\lib\\site-packages (from requests->paddleocr>=2.0.1) (2024.2.2)\n",
      "Requirement already satisfied: colorama in c:\\users\\aashi\\anaconda3\\lib\\site-packages (from tqdm->paddleocr>=2.0.1) (0.4.6)\n",
      "Requirement already satisfied: contourpy>=1.0.1 in c:\\users\\aashi\\anaconda3\\lib\\site-packages (from matplotlib->imgaug->paddleocr>=2.0.1) (1.2.0)\n",
      "Requirement already satisfied: cycler>=0.10 in c:\\users\\aashi\\anaconda3\\lib\\site-packages (from matplotlib->imgaug->paddleocr>=2.0.1) (0.12.1)\n",
      "Requirement already satisfied: kiwisolver>=1.3.1 in c:\\users\\aashi\\anaconda3\\lib\\site-packages (from matplotlib->imgaug->paddleocr>=2.0.1) (1.4.5)\n",
      "Requirement already satisfied: pyparsing>=2.3.1 in c:\\users\\aashi\\anaconda3\\lib\\site-packages (from matplotlib->imgaug->paddleocr>=2.0.1) (3.1.1)\n",
      "Requirement already satisfied: python-dateutil>=2.7 in c:\\users\\aashi\\anaconda3\\lib\\site-packages (from matplotlib->imgaug->paddleocr>=2.0.1) (2.8.2)\n",
      "Downloading paddleocr-2.8.1-py3-none-any.whl (407 kB)\n",
      "Downloading Cython-3.0.11-cp311-cp311-win_amd64.whl (2.8 MB)\n",
      "   ---------------------------------------- 0.0/2.8 MB ? eta -:--:--\n",
      "   ---------------------------------------- 0.0/2.8 MB ? eta -:--:--\n",
      "   ---------------------------------------- 0.0/2.8 MB ? eta -:--:--\n",
      "   --- ------------------------------------ 0.3/2.8 MB ? eta -:--:--\n",
      "   --- ------------------------------------ 0.3/2.8 MB ? eta -:--:--\n",
      "   ------- -------------------------------- 0.5/2.8 MB 558.9 kB/s eta 0:00:05\n",
      "   ------- -------------------------------- 0.5/2.8 MB 558.9 kB/s eta 0:00:05\n",
      "   ----------- ---------------------------- 0.8/2.8 MB 568.6 kB/s eta 0:00:04\n",
      "   ----------- ---------------------------- 0.8/2.8 MB 568.6 kB/s eta 0:00:04\n",
      "   --------------- ------------------------ 1.0/2.8 MB 629.1 kB/s eta 0:00:03\n",
      "   ------------------ --------------------- 1.3/2.8 MB 670.9 kB/s eta 0:00:03\n",
      "   ------------------ --------------------- 1.3/2.8 MB 670.9 kB/s eta 0:00:03\n",
      "   ---------------------- ----------------- 1.6/2.8 MB 676.3 kB/s eta 0:00:02\n",
      "   -------------------------- ------------- 1.8/2.8 MB 729.5 kB/s eta 0:00:02\n",
      "   -------------------------- ------------- 1.8/2.8 MB 729.5 kB/s eta 0:00:02\n",
      "   ------------------------------ --------- 2.1/2.8 MB 678.9 kB/s eta 0:00:02\n",
      "   ------------------------------ --------- 2.1/2.8 MB 678.9 kB/s eta 0:00:02\n",
      "   ------------------------------ --------- 2.1/2.8 MB 678.9 kB/s eta 0:00:02\n",
      "   ------------------------------ --------- 2.1/2.8 MB 678.9 kB/s eta 0:00:02\n",
      "   --------------------------------- ------ 2.4/2.8 MB 621.4 kB/s eta 0:00:01\n",
      "   --------------------------------- ------ 2.4/2.8 MB 621.4 kB/s eta 0:00:01\n",
      "   ------------------------------------- -- 2.6/2.8 MB 611.2 kB/s eta 0:00:01\n",
      "   ---------------------------------------- 2.8/2.8 MB 616.2 kB/s eta 0:00:00\n",
      "Downloading pyclipper-1.3.0.post5-cp311-cp311-win_amd64.whl (108 kB)\n",
      "Downloading python_docx-1.1.2-py3-none-any.whl (244 kB)\n",
      "Downloading rapidfuzz-3.9.7-cp311-cp311-win_amd64.whl (1.7 MB)\n",
      "   ---------------------------------------- 0.0/1.7 MB ? eta -:--:--\n",
      "   ---------------------------------------- 0.0/1.7 MB ? eta -:--:--\n",
      "   ------ --------------------------------- 0.3/1.7 MB ? eta -:--:--\n",
      "   ------ --------------------------------- 0.3/1.7 MB ? eta -:--:--\n",
      "   ------------ --------------------------- 0.5/1.7 MB 799.2 kB/s eta 0:00:02\n",
      "   ------------ --------------------------- 0.5/1.7 MB 799.2 kB/s eta 0:00:02\n",
      "   ------------------ --------------------- 0.8/1.7 MB 644.9 kB/s eta 0:00:02\n",
      "   ------------------ --------------------- 0.8/1.7 MB 644.9 kB/s eta 0:00:02\n",
      "   ------------------ --------------------- 0.8/1.7 MB 644.9 kB/s eta 0:00:02\n",
      "   ------------------------- -------------- 1.0/1.7 MB 592.2 kB/s eta 0:00:02\n",
      "   ------------------------------- -------- 1.3/1.7 MB 639.0 kB/s eta 0:00:01\n",
      "   ------------------------------- -------- 1.3/1.7 MB 639.0 kB/s eta 0:00:01\n",
      "   ------------------------------- -------- 1.3/1.7 MB 639.0 kB/s eta 0:00:01\n",
      "   ------------------------------------- -- 1.6/1.7 MB 586.7 kB/s eta 0:00:01\n",
      "   ---------------------------------------- 1.7/1.7 MB 589.8 kB/s eta 0:00:00\n",
      "Building wheels for collected packages: fire\n",
      "  Building wheel for fire (setup.py): started\n",
      "  Building wheel for fire (setup.py): finished with status 'done'\n",
      "  Created wheel for fire: filename=fire-0.6.0-py2.py3-none-any.whl size=117047 sha256=729da840e7a4a97885a0c1ac1654f6a0c1666b62c79f649ebbca1f86d1495703\n",
      "  Stored in directory: c:\\users\\aashi\\appdata\\local\\pip\\cache\\wheels\\6a\\f3\\0c\\fa347dfa663f573462c6533d259c2c859e97e103d1ce21538f\n",
      "Successfully built fire\n",
      "Installing collected packages: pyclipper, rapidfuzz, python-docx, fire, cython, paddleocr\n",
      "Successfully installed cython-3.0.11 fire-0.6.0 paddleocr-2.8.1 pyclipper-1.3.0.post5 python-docx-1.1.2 rapidfuzz-3.9.7\n",
      "Note: you may need to restart the kernel to use updated packages.\n"
     ]
    },
    {
     "name": "stderr",
     "output_type": "stream",
     "text": [
      "WARNING: Ignoring invalid distribution ~atplotlib (c:\\Users\\aashi\\anaconda3\\Lib\\site-packages)\n",
      "WARNING: Ignoring invalid distribution ~lotly (c:\\Users\\aashi\\anaconda3\\Lib\\site-packages)\n",
      "WARNING: Ignoring invalid distribution ~atplotlib (c:\\Users\\aashi\\anaconda3\\Lib\\site-packages)\n",
      "WARNING: Ignoring invalid distribution ~lotly (c:\\Users\\aashi\\anaconda3\\Lib\\site-packages)\n",
      "WARNING: Ignoring invalid distribution ~atplotlib (c:\\Users\\aashi\\anaconda3\\Lib\\site-packages)\n",
      "WARNING: Ignoring invalid distribution ~lotly (c:\\Users\\aashi\\anaconda3\\Lib\\site-packages)\n",
      "ERROR: pip's dependency resolver does not currently take into account all the packages that are installed. This behaviour is the source of the following dependency conflicts.\n",
      "tables 3.8.0 requires blosc2~=2.0.0, which is not installed.\n"
     ]
    }
   ],
   "source": [
    "%pip install \"paddleocr>=2.0.1\" "
   ]
  },
  {
   "cell_type": "code",
   "execution_count": 4,
   "metadata": {},
   "outputs": [
    {
     "name": "stderr",
     "output_type": "stream",
     "text": [
      "c:\\Users\\aashi\\anaconda3\\Lib\\site-packages\\paramiko\\transport.py:219: CryptographyDeprecationWarning: Blowfish has been deprecated\n",
      "  \"class\": algorithms.Blowfish,\n"
     ]
    }
   ],
   "source": [
    "from paddleocr import PaddleOCR,draw_ocr"
   ]
  },
  {
   "cell_type": "code",
   "execution_count": 5,
   "metadata": {},
   "outputs": [
    {
     "name": "stdout",
     "output_type": "stream",
     "text": [
      "download https://paddleocr.bj.bcebos.com/PP-OCRv3/english/en_PP-OCRv3_det_infer.tar to C:\\Users\\aashi/.paddleocr/whl\\det\\en\\en_PP-OCRv3_det_infer\\en_PP-OCRv3_det_infer.tar\n"
     ]
    },
    {
     "name": "stderr",
     "output_type": "stream",
     "text": [
      "100%|██████████| 4.00M/4.00M [00:21<00:00, 184kiB/s] \n"
     ]
    },
    {
     "name": "stdout",
     "output_type": "stream",
     "text": [
      "download https://paddleocr.bj.bcebos.com/PP-OCRv4/english/en_PP-OCRv4_rec_infer.tar to C:\\Users\\aashi/.paddleocr/whl\\rec\\en\\en_PP-OCRv4_rec_infer\\en_PP-OCRv4_rec_infer.tar\n"
     ]
    },
    {
     "name": "stderr",
     "output_type": "stream",
     "text": [
      "100%|██████████| 10.2M/10.2M [00:34<00:00, 300kiB/s] \n"
     ]
    },
    {
     "name": "stdout",
     "output_type": "stream",
     "text": [
      "download https://paddleocr.bj.bcebos.com/dygraph_v2.0/ch/ch_ppocr_mobile_v2.0_cls_infer.tar to C:\\Users\\aashi/.paddleocr/whl\\cls\\ch_ppocr_mobile_v2.0_cls_infer\\ch_ppocr_mobile_v2.0_cls_infer.tar\n"
     ]
    },
    {
     "name": "stderr",
     "output_type": "stream",
     "text": [
      "100%|██████████| 2.19M/2.19M [00:13<00:00, 165kiB/s] "
     ]
    },
    {
     "name": "stdout",
     "output_type": "stream",
     "text": [
      "[2024/09/14 22:48:59] ppocr DEBUG: Namespace(help='==SUPPRESS==', use_gpu=False, use_xpu=False, use_npu=False, use_mlu=False, ir_optim=True, use_tensorrt=False, min_subgraph_size=15, precision='fp32', gpu_mem=500, gpu_id=0, image_dir=None, page_num=0, det_algorithm='DB', det_model_dir='C:\\\\Users\\\\aashi/.paddleocr/whl\\\\det\\\\en\\\\en_PP-OCRv3_det_infer', det_limit_side_len=960, det_limit_type='max', det_box_type='quad', det_db_thresh=0.3, det_db_box_thresh=0.6, det_db_unclip_ratio=1.5, max_batch_size=10, use_dilation=False, det_db_score_mode='fast', det_east_score_thresh=0.8, det_east_cover_thresh=0.1, det_east_nms_thresh=0.2, det_sast_score_thresh=0.5, det_sast_nms_thresh=0.2, det_pse_thresh=0, det_pse_box_thresh=0.85, det_pse_min_area=16, det_pse_scale=1, scales=[8, 16, 32], alpha=1.0, beta=1.0, fourier_degree=5, rec_algorithm='SVTR_LCNet', rec_model_dir='C:\\\\Users\\\\aashi/.paddleocr/whl\\\\rec\\\\en\\\\en_PP-OCRv4_rec_infer', rec_image_inverse=True, rec_image_shape='3, 48, 320', rec_batch_num=6, max_text_length=25, rec_char_dict_path='c:\\\\Users\\\\aashi\\\\anaconda3\\\\Lib\\\\site-packages\\\\paddleocr\\\\ppocr\\\\utils\\\\en_dict.txt', use_space_char=True, vis_font_path='./doc/fonts/simfang.ttf', drop_score=0.5, e2e_algorithm='PGNet', e2e_model_dir=None, e2e_limit_side_len=768, e2e_limit_type='max', e2e_pgnet_score_thresh=0.5, e2e_char_dict_path='./ppocr/utils/ic15_dict.txt', e2e_pgnet_valid_set='totaltext', e2e_pgnet_mode='fast', use_angle_cls=True, cls_model_dir='C:\\\\Users\\\\aashi/.paddleocr/whl\\\\cls\\\\ch_ppocr_mobile_v2.0_cls_infer', cls_image_shape='3, 48, 192', label_list=['0', '180'], cls_batch_num=6, cls_thresh=0.9, enable_mkldnn=False, cpu_threads=10, use_pdserving=False, warmup=False, sr_model_dir=None, sr_image_shape='3, 32, 128', sr_batch_num=1, draw_img_save_dir='./inference_results', save_crop_res=False, crop_res_save_dir='./output', use_mp=False, total_process_num=1, process_id=0, benchmark=False, save_log_path='./log_output/', show_log=True, use_onnx=False, return_word_box=False, output='./output', table_max_len=488, table_algorithm='TableAttn', table_model_dir=None, merge_no_span_structure=True, table_char_dict_path=None, layout_model_dir=None, layout_dict_path=None, layout_score_threshold=0.5, layout_nms_threshold=0.5, kie_algorithm='LayoutXLM', ser_model_dir=None, re_model_dir=None, use_visual_backbone=True, ser_dict_path='../train_data/XFUND/class_list_xfun.txt', ocr_order_method=None, mode='structure', image_orientation=False, layout=True, table=True, ocr=True, recovery=False, use_pdf2docx_api=False, invert=False, binarize=False, alphacolor=(255, 255, 255), lang='en', det=True, rec=True, type='ocr', savefile=False, ocr_version='PP-OCRv4', structure_version='PP-StructureV2')\n"
     ]
    },
    {
     "name": "stderr",
     "output_type": "stream",
     "text": [
      "\n"
     ]
    },
    {
     "name": "stdout",
     "output_type": "stream",
     "text": [
      "[2024/09/14 22:49:01] ppocr DEBUG: dt_boxes num : 6, elapsed : 0.6619303226470947\n",
      "[2024/09/14 22:49:01] ppocr DEBUG: cls num  : 6, elapsed : 0.057927608489990234\n",
      "[2024/09/14 22:49:01] ppocr DEBUG: rec_res num  : 6, elapsed : 0.7236893177032471\n",
      "[[[309.0, 314.0], [370.0, 317.0], [368.0, 358.0], [307.0, 355.0]], ('28\"', 0.9265255331993103)]\n",
      "[[[404.0, 778.0], [659.0, 778.0], [659.0, 803.0], [404.0, 803.0]], ('ZFREEWHEELS', 0.9725809097290039)]\n",
      "[[[681.0, 777.0], [794.0, 777.0], [794.0, 806.0], [681.0, 806.0]], ('800W', 0.9402787089347839)]\n",
      "[[[783.0, 777.0], [880.0, 777.0], [880.0, 806.0], [783.0, 806.0]], ('36V', 0.9419814944267273)]\n",
      "[[[366.0, 854.0], [924.0, 854.0], [924.0, 882.0], [366.0, 882.0]], ('GABELMINDESTBREITE 135MM', 0.9582461714744568)]\n",
      "[[[306.0, 930.0], [973.0, 930.0], [973.0, 969.0], [306.0, 969.0]], ('HINTERRADMITBRUSHLESSMOTOR', 0.9892672300338745)]\n"
     ]
    }
   ],
   "source": [
    "ocr = PaddleOCR(use_angle_cls=True, lang='en') # need to run only once to download and load model into memory\n",
    "img_path = r'E:\\Career\\hackathon\\Amazon-ML-Challenge\\small_sample\\61o2ntPNNgL.jpg'\n",
    "result = ocr.ocr(img_path, cls=True)\n",
    "for idx in range(len(result)):\n",
    "    res = result[idx]\n",
    "    for line in res:\n",
    "        print(line)"
   ]
  },
  {
   "cell_type": "code",
   "execution_count": 31,
   "metadata": {},
   "outputs": [
    {
     "data": {
      "text/plain": [
       "[[306.0, 930.0], [973.0, 930.0], [973.0, 969.0], [306.0, 969.0]]"
      ]
     },
     "execution_count": 31,
     "metadata": {},
     "output_type": "execute_result"
    }
   ],
   "source": [
    "line"
   ]
  },
  {
   "cell_type": "code",
   "execution_count": 24,
   "metadata": {},
   "outputs": [
    {
     "name": "stdout",
     "output_type": "stream",
     "text": [
      "[[306.0, 930.0]] [973.0] [930.0]\n"
     ]
    },
    {
     "ename": "OSError",
     "evalue": "cannot open resource",
     "output_type": "error",
     "traceback": [
      "\u001b[1;31m---------------------------------------------------------------------------\u001b[0m",
      "\u001b[1;31mOSError\u001b[0m                                   Traceback (most recent call last)",
      "Cell \u001b[1;32mIn[24], line 8\u001b[0m\n\u001b[0;32m      6\u001b[0m scores \u001b[38;5;241m=\u001b[39m [line[\u001b[38;5;241m1\u001b[39m][\u001b[38;5;241m1\u001b[39m]]\n\u001b[0;32m      7\u001b[0m \u001b[38;5;28mprint\u001b[39m(boxes,txts,scores)\n\u001b[1;32m----> 8\u001b[0m im_show \u001b[38;5;241m=\u001b[39m draw_ocr(image, boxes, txts, scores, font_path\u001b[38;5;241m=\u001b[39m\u001b[38;5;124m'\u001b[39m\u001b[38;5;124m./fonts/simfang.ttf\u001b[39m\u001b[38;5;124m'\u001b[39m)\n\u001b[0;32m      9\u001b[0m im_show \u001b[38;5;241m=\u001b[39m Image\u001b[38;5;241m.\u001b[39mfromarray(im_show)\n\u001b[0;32m     10\u001b[0m im_show\u001b[38;5;241m.\u001b[39msave(\u001b[38;5;124m'\u001b[39m\u001b[38;5;124mresult.jpg\u001b[39m\u001b[38;5;124m'\u001b[39m)\n",
      "File \u001b[1;32mc:\\Users\\aashi\\anaconda3\\Lib\\site-packages\\paddleocr\\tools\\infer\\utility.py:418\u001b[0m, in \u001b[0;36mdraw_ocr\u001b[1;34m(image, boxes, txts, scores, drop_score, font_path)\u001b[0m\n\u001b[0;32m    416\u001b[0m \u001b[38;5;28;01mif\u001b[39;00m txts \u001b[38;5;129;01mis\u001b[39;00m \u001b[38;5;129;01mnot\u001b[39;00m \u001b[38;5;28;01mNone\u001b[39;00m:\n\u001b[0;32m    417\u001b[0m     img \u001b[38;5;241m=\u001b[39m np\u001b[38;5;241m.\u001b[39marray(resize_img(image, input_size\u001b[38;5;241m=\u001b[39m\u001b[38;5;241m600\u001b[39m))\n\u001b[1;32m--> 418\u001b[0m     txt_img \u001b[38;5;241m=\u001b[39m text_visual(\n\u001b[0;32m    419\u001b[0m         txts,\n\u001b[0;32m    420\u001b[0m         scores,\n\u001b[0;32m    421\u001b[0m         img_h\u001b[38;5;241m=\u001b[39mimg\u001b[38;5;241m.\u001b[39mshape[\u001b[38;5;241m0\u001b[39m],\n\u001b[0;32m    422\u001b[0m         img_w\u001b[38;5;241m=\u001b[39m\u001b[38;5;241m600\u001b[39m,\n\u001b[0;32m    423\u001b[0m         threshold\u001b[38;5;241m=\u001b[39mdrop_score,\n\u001b[0;32m    424\u001b[0m         font_path\u001b[38;5;241m=\u001b[39mfont_path,\n\u001b[0;32m    425\u001b[0m     )\n\u001b[0;32m    426\u001b[0m     img \u001b[38;5;241m=\u001b[39m np\u001b[38;5;241m.\u001b[39mconcatenate([np\u001b[38;5;241m.\u001b[39marray(img), np\u001b[38;5;241m.\u001b[39marray(txt_img)], axis\u001b[38;5;241m=\u001b[39m\u001b[38;5;241m1\u001b[39m)\n\u001b[0;32m    427\u001b[0m     \u001b[38;5;28;01mreturn\u001b[39;00m img\n",
      "File \u001b[1;32mc:\\Users\\aashi\\anaconda3\\Lib\\site-packages\\paddleocr\\tools\\infer\\utility.py:571\u001b[0m, in \u001b[0;36mtext_visual\u001b[1;34m(texts, scores, img_h, img_w, threshold, font_path)\u001b[0m\n\u001b[0;32m    569\u001b[0m font_size \u001b[38;5;241m=\u001b[39m \u001b[38;5;241m20\u001b[39m\n\u001b[0;32m    570\u001b[0m txt_color \u001b[38;5;241m=\u001b[39m (\u001b[38;5;241m0\u001b[39m, \u001b[38;5;241m0\u001b[39m, \u001b[38;5;241m0\u001b[39m)\n\u001b[1;32m--> 571\u001b[0m font \u001b[38;5;241m=\u001b[39m ImageFont\u001b[38;5;241m.\u001b[39mtruetype(font_path, font_size, encoding\u001b[38;5;241m=\u001b[39m\u001b[38;5;124m\"\u001b[39m\u001b[38;5;124mutf-8\u001b[39m\u001b[38;5;124m\"\u001b[39m)\n\u001b[0;32m    573\u001b[0m gap \u001b[38;5;241m=\u001b[39m font_size \u001b[38;5;241m+\u001b[39m \u001b[38;5;241m5\u001b[39m\n\u001b[0;32m    574\u001b[0m txt_img_list \u001b[38;5;241m=\u001b[39m []\n",
      "File \u001b[1;32mc:\\Users\\aashi\\anaconda3\\Lib\\site-packages\\PIL\\ImageFont.py:819\u001b[0m, in \u001b[0;36mtruetype\u001b[1;34m(font, size, index, encoding, layout_engine)\u001b[0m\n\u001b[0;32m    816\u001b[0m     \u001b[38;5;28;01mreturn\u001b[39;00m FreeTypeFont(font, size, index, encoding, layout_engine)\n\u001b[0;32m    818\u001b[0m \u001b[38;5;28;01mtry\u001b[39;00m:\n\u001b[1;32m--> 819\u001b[0m     \u001b[38;5;28;01mreturn\u001b[39;00m freetype(font)\n\u001b[0;32m    820\u001b[0m \u001b[38;5;28;01mexcept\u001b[39;00m \u001b[38;5;167;01mOSError\u001b[39;00m:\n\u001b[0;32m    821\u001b[0m     \u001b[38;5;28;01mif\u001b[39;00m \u001b[38;5;129;01mnot\u001b[39;00m is_path(font):\n",
      "File \u001b[1;32mc:\\Users\\aashi\\anaconda3\\Lib\\site-packages\\PIL\\ImageFont.py:816\u001b[0m, in \u001b[0;36mtruetype.<locals>.freetype\u001b[1;34m(font)\u001b[0m\n\u001b[0;32m    815\u001b[0m \u001b[38;5;28;01mdef\u001b[39;00m \u001b[38;5;21mfreetype\u001b[39m(font):\n\u001b[1;32m--> 816\u001b[0m     \u001b[38;5;28;01mreturn\u001b[39;00m FreeTypeFont(font, size, index, encoding, layout_engine)\n",
      "File \u001b[1;32mc:\\Users\\aashi\\anaconda3\\Lib\\site-packages\\PIL\\ImageFont.py:245\u001b[0m, in \u001b[0;36mFreeTypeFont.__init__\u001b[1;34m(self, font, size, index, encoding, layout_engine)\u001b[0m\n\u001b[0;32m    243\u001b[0m                 load_from_bytes(f)\n\u001b[0;32m    244\u001b[0m             \u001b[38;5;28;01mreturn\u001b[39;00m\n\u001b[1;32m--> 245\u001b[0m     \u001b[38;5;28mself\u001b[39m\u001b[38;5;241m.\u001b[39mfont \u001b[38;5;241m=\u001b[39m core\u001b[38;5;241m.\u001b[39mgetfont(\n\u001b[0;32m    246\u001b[0m         font, size, index, encoding, layout_engine\u001b[38;5;241m=\u001b[39mlayout_engine\n\u001b[0;32m    247\u001b[0m     )\n\u001b[0;32m    248\u001b[0m \u001b[38;5;28;01melse\u001b[39;00m:\n\u001b[0;32m    249\u001b[0m     load_from_bytes(font)\n",
      "\u001b[1;31mOSError\u001b[0m: cannot open resource"
     ]
    }
   ],
   "source": [
    "from PIL import Image\n",
    "line = line[0]\n",
    "image = Image.open(img_path).convert('RGB')\n",
    "boxes = [line[0]]\n",
    "txts = [line[1][0]]\n",
    "scores = [line[1][1]]\n",
    "print(boxes,txts,scores)\n",
    "im_show = draw_ocr(image, boxes, txts, scores, font_path='./fonts/simfang.ttf')\n",
    "im_show = Image.fromarray(im_show)\n",
    "im_show.save('result.jpg')"
   ]
  },
  {
   "cell_type": "code",
   "execution_count": 33,
   "metadata": {},
   "outputs": [
    {
     "name": "stdout",
     "output_type": "stream",
     "text": [
      "[2024/09/14 22:57:07] ppocr DEBUG: Namespace(help='==SUPPRESS==', use_gpu=False, use_xpu=False, use_npu=False, use_mlu=False, ir_optim=True, use_tensorrt=False, min_subgraph_size=15, precision='fp32', gpu_mem=500, gpu_id=0, image_dir=None, page_num=0, det_algorithm='DB', det_model_dir='C:\\\\Users\\\\aashi/.paddleocr/whl\\\\det\\\\en\\\\en_PP-OCRv3_det_infer', det_limit_side_len=960, det_limit_type='max', det_box_type='quad', det_db_thresh=0.3, det_db_box_thresh=0.6, det_db_unclip_ratio=1.5, max_batch_size=10, use_dilation=False, det_db_score_mode='fast', det_east_score_thresh=0.8, det_east_cover_thresh=0.1, det_east_nms_thresh=0.2, det_sast_score_thresh=0.5, det_sast_nms_thresh=0.2, det_pse_thresh=0, det_pse_box_thresh=0.85, det_pse_min_area=16, det_pse_scale=1, scales=[8, 16, 32], alpha=1.0, beta=1.0, fourier_degree=5, rec_algorithm='SVTR_LCNet', rec_model_dir='C:\\\\Users\\\\aashi/.paddleocr/whl\\\\rec\\\\en\\\\en_PP-OCRv4_rec_infer', rec_image_inverse=True, rec_image_shape='3, 48, 320', rec_batch_num=6, max_text_length=25, rec_char_dict_path='c:\\\\Users\\\\aashi\\\\anaconda3\\\\Lib\\\\site-packages\\\\paddleocr\\\\ppocr\\\\utils\\\\en_dict.txt', use_space_char=True, vis_font_path='./doc/fonts/simfang.ttf', drop_score=0.5, e2e_algorithm='PGNet', e2e_model_dir=None, e2e_limit_side_len=768, e2e_limit_type='max', e2e_pgnet_score_thresh=0.5, e2e_char_dict_path='./ppocr/utils/ic15_dict.txt', e2e_pgnet_valid_set='totaltext', e2e_pgnet_mode='fast', use_angle_cls=True, cls_model_dir='C:\\\\Users\\\\aashi/.paddleocr/whl\\\\cls\\\\ch_ppocr_mobile_v2.0_cls_infer', cls_image_shape='3, 48, 192', label_list=['0', '180'], cls_batch_num=6, cls_thresh=0.9, enable_mkldnn=False, cpu_threads=10, use_pdserving=False, warmup=False, sr_model_dir=None, sr_image_shape='3, 32, 128', sr_batch_num=1, draw_img_save_dir='./inference_results', save_crop_res=False, crop_res_save_dir='./output', use_mp=False, total_process_num=1, process_id=0, benchmark=False, save_log_path='./log_output/', show_log=True, use_onnx=False, return_word_box=False, output='./output', table_max_len=488, table_algorithm='TableAttn', table_model_dir=None, merge_no_span_structure=True, table_char_dict_path=None, layout_model_dir=None, layout_dict_path=None, layout_score_threshold=0.5, layout_nms_threshold=0.5, kie_algorithm='LayoutXLM', ser_model_dir=None, re_model_dir=None, use_visual_backbone=True, ser_dict_path='../train_data/XFUND/class_list_xfun.txt', ocr_order_method=None, mode='structure', image_orientation=False, layout=True, table=True, ocr=True, recovery=False, use_pdf2docx_api=False, invert=False, binarize=False, alphacolor=(255, 255, 255), lang='en', det=True, rec=True, type='ocr', savefile=False, ocr_version='PP-OCRv4', structure_version='PP-StructureV2')\n",
      "[2024/09/14 22:57:08] ppocr DEBUG: dt_boxes num : 6, elapsed : 0.18082094192504883\n",
      "[2024/09/14 22:57:08] ppocr DEBUG: cls num  : 6, elapsed : 0.022053003311157227\n",
      "[2024/09/14 22:57:09] ppocr DEBUG: rec_res num  : 6, elapsed : 0.70904541015625\n"
     ]
    }
   ],
   "source": [
    "from PIL import Image, ImageDraw, ImageFont\n",
    "from paddleocr import PaddleOCR\n",
    "\n",
    "# Initialize PaddleOCR (you only need to do this once)\n",
    "ocr = PaddleOCR(use_angle_cls=True, lang='en') \n",
    "\n",
    "# Path to your image\n",
    "img_path = r'E:\\Career\\hackathon\\Amazon-ML-Challenge\\small_sample\\61o2ntPNNgL.jpg'\n",
    "\n",
    "# Perform OCR on the image\n",
    "result = ocr.ocr(img_path, cls=True)\n",
    "\n",
    "# Open the image\n",
    "image = Image.open(img_path).convert('RGB')\n",
    "draw = ImageDraw.Draw(image)\n",
    "\n",
    "# Optionally load a font\n",
    "# font = ImageFont.truetype('path_to_font.ttf', size=20) # Customize font path and size\n",
    "\n",
    "# Iterate over the OCR result and draw boxes with text\n",
    "for idx in range(len(result)):\n",
    "    res = result[idx]\n",
    "    for line in res:\n",
    "        # Get bounding box and text\n",
    "        box = line[0]\n",
    "        text = line[1][0]\n",
    "        score = line[1][1]\n",
    "\n",
    "        # Flatten the box coordinates into a single list\n",
    "        box = [tuple(coord) for coord in box]\n",
    "\n",
    "        # Draw the bounding box (use line for drawing the polygon)\n",
    "        draw.line(box + [box[0]], fill='red', width=2)  # Connect the last point to the first\n",
    "\n",
    "        # Draw the text along with the confidence score\n",
    "        draw.text((box[0][0], box[0][1] - 10), f'{text} ({score:.2f})', fill='red')  # Adjust position if needed\n",
    "\n",
    "\n",
    "image.save('ocr_result_boxed.jpg')\n",
    "\n",
    "\n",
    "image.show()\n"
   ]
  },
  {
   "cell_type": "code",
   "execution_count": 34,
   "metadata": {},
   "outputs": [
    {
     "data": {
      "text/plain": [
       "[[[[[309.0, 314.0], [370.0, 317.0], [368.0, 358.0], [307.0, 355.0]],\n",
       "   ('28\"', 0.9265255331993103)],\n",
       "  [[[404.0, 778.0], [659.0, 778.0], [659.0, 803.0], [404.0, 803.0]],\n",
       "   ('ZFREEWHEELS', 0.9725809097290039)],\n",
       "  [[[681.0, 777.0], [794.0, 777.0], [794.0, 806.0], [681.0, 806.0]],\n",
       "   ('800W', 0.9402787089347839)],\n",
       "  [[[783.0, 777.0], [880.0, 777.0], [880.0, 806.0], [783.0, 806.0]],\n",
       "   ('36V', 0.9419814944267273)],\n",
       "  [[[366.0, 854.0], [924.0, 854.0], [924.0, 882.0], [366.0, 882.0]],\n",
       "   ('GABELMINDESTBREITE 135MM', 0.9582461714744568)],\n",
       "  [[[306.0, 930.0], [973.0, 930.0], [973.0, 969.0], [306.0, 969.0]],\n",
       "   ('HINTERRADMITBRUSHLESSMOTOR', 0.9892672300338745)]]]"
      ]
     },
     "execution_count": 34,
     "metadata": {},
     "output_type": "execute_result"
    }
   ],
   "source": [
    "result"
   ]
  },
  {
   "cell_type": "code",
   "execution_count": null,
   "metadata": {},
   "outputs": [],
   "source": []
  }
 ],
 "metadata": {
  "kernelspec": {
   "display_name": "base",
   "language": "python",
   "name": "python3"
  },
  "language_info": {
   "codemirror_mode": {
    "name": "ipython",
    "version": 3
   },
   "file_extension": ".py",
   "mimetype": "text/x-python",
   "name": "python",
   "nbconvert_exporter": "python",
   "pygments_lexer": "ipython3",
   "version": "3.11.4"
  }
 },
 "nbformat": 4,
 "nbformat_minor": 2
}
